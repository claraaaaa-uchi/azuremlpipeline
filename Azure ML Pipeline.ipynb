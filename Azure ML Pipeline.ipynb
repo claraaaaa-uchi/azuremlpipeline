{
  "cells": [
    {
      "cell_type": "code",
      "source": [
        "import os\n",
        "import azureml.core\n",
        "from azureml.core import Workspace, Experiment, Datastore\n",
        "from azureml.widgets import RunDetails\n",
        "from azureml.core import Dataset\n",
        " \n",
        "from azureml.pipeline.core import Pipeline, PipelineData\n",
        "from azureml.pipeline.core import PipelineRun, StepRun, PortDataReference\n",
        "from azureml.pipeline.steps import PythonScriptStep\n",
        " \n",
        "from azureml.core.compute import ComputeTarget, AmlCompute\n",
        "from azureml.core.compute_target import ComputeTargetException\n",
        " \n",
        "from azureml.core.runconfig import RunConfiguration\n",
        "from azureml.core.conda_dependencies import CondaDependencies\n",
        " \n",
        "from azureml.core.model import Model\n",
        "from azureml.core.environment import CondaDependencies\n",
        "from azureml.core import ScriptRunConfig, RunConfiguration, Experiment\n",
        "\n",
        "\n",
        "\n",
        "# Check core SDK version number\n",
        "print(\"SDK version:\", azureml.core.VERSION)"
      ],
      "outputs": [
        {
          "output_type": "stream",
          "name": "stdout",
          "text": "SDK version: 1.34.0\n"
        }
      ],
      "execution_count": 1,
      "metadata": {
        "jupyter": {
          "source_hidden": false,
          "outputs_hidden": false
        },
        "nteract": {
          "transient": {
            "deleting": false
          }
        },
        "gather": {
          "logged": 1635723912715
        }
      }
    },
    {
      "cell_type": "code",
      "source": [
        "# connect to your workspace\n",
        "ws = Workspace.from_config()"
      ],
      "outputs": [],
      "execution_count": 2,
      "metadata": {
        "jupyter": {
          "source_hidden": false,
          "outputs_hidden": false
        },
        "nteract": {
          "transient": {
            "deleting": false
          }
        },
        "gather": {
          "logged": 1635723913407
        }
      }
    },
    {
      "cell_type": "code",
      "source": [
        "# Get the blob storage associated with the workspace\n",
        "def_blob_store = ws.get_default_datastore()"
      ],
      "outputs": [],
      "execution_count": 3,
      "metadata": {
        "jupyter": {
          "source_hidden": false,
          "outputs_hidden": false
        },
        "nteract": {
          "transient": {
            "deleting": false
          }
        },
        "gather": {
          "logged": 1635723915394
        }
      }
    },
    {
      "cell_type": "code",
      "source": [
        "def_blob_store.upload_files(['/mnt/batch/tasks/shared/LS_root/mounts/clusters/schen91/code/Users/schen9/data/cardio_train.csv'],target_path='data',overwrite=True, show_progress=True)"
      ],
      "outputs": [
        {
          "output_type": "stream",
          "name": "stdout",
          "text": "Uploading an estimated of 1 files\nUploading /mnt/batch/tasks/shared/LS_root/mounts/clusters/schen91/code/Users/schen9/data/cardio_train.csv\nUploaded /mnt/batch/tasks/shared/LS_root/mounts/clusters/schen91/code/Users/schen9/data/cardio_train.csv, 1 files out of an estimated total of 1\nUploaded 1 files\n"
        },
        {
          "output_type": "execute_result",
          "execution_count": 4,
          "data": {
            "text/plain": "$AZUREML_DATAREFERENCE_495a93d6ba8a4fb199195eb521ca0992"
          },
          "metadata": {}
        }
      ],
      "execution_count": 4,
      "metadata": {
        "jupyter": {
          "source_hidden": false,
          "outputs_hidden": false
        },
        "nteract": {
          "transient": {
            "deleting": false
          }
        },
        "gather": {
          "logged": 1635723915490
        }
      }
    },
    {
      "cell_type": "code",
      "source": [
        "#create an Azure Machine Learning compute for running your steps\n",
        "\n",
        "aml_compute_target = \"demo-cluster\"\n",
        "try:\n",
        "    aml_compute = AmlCompute(ws, aml_compute_target)\n",
        "    print(\"found existing compute target.\")\n",
        "except ComputeTargetException:\n",
        "    print(\"creating new compute target\")\n",
        "    \n",
        "    provisioning_config = AmlCompute.provisioning_configuration(vm_size = \"STANDARD_D2_V2\",\n",
        "                                                                min_nodes = 1, \n",
        "                                                                max_nodes = 4)    \n",
        "    aml_compute = ComputeTarget.create(ws, aml_compute_target, provisioning_config)\n",
        "    aml_compute.wait_for_completion(show_output=True, min_node_count=None, timeout_in_minutes=20)\n",
        "    \n",
        "print(\"Azure Machine Learning Compute attached\")"
      ],
      "outputs": [
        {
          "output_type": "stream",
          "name": "stdout",
          "text": "found existing compute target.\nAzure Machine Learning Compute attached\n"
        }
      ],
      "execution_count": 5,
      "metadata": {
        "jupyter": {
          "source_hidden": false,
          "outputs_hidden": false
        },
        "nteract": {
          "transient": {
            "deleting": false
          }
        },
        "gather": {
          "logged": 1635723917345
        }
      }
    },
    {
      "cell_type": "code",
      "source": [
        "#Configure the training run's environment\n",
        "\n",
        "aml_run_config = RunConfiguration()\n",
        " \n",
        "aml_run_config.target = aml_compute\n",
        "aml_run_config.environment.docker.enabled = True\n",
        "aml_run_config.environment.docker.base_image = \"mcr.microsoft.com/azureml/base:latest\"\n",
        " \n",
        "aml_run_config.environment.python.user_managed_dependencies = False\n",
        " \n",
        "aml_run_config.environment.python.conda_dependencies = CondaDependencies.create(\n",
        "    conda_packages=['pandas','scikit-learn','numpy'], \n",
        "    pip_packages=['joblib','azureml-sdk','fusepy'], \n",
        "    pin_sdk_version=False)"
      ],
      "outputs": [
        {
          "output_type": "stream",
          "name": "stderr",
          "text": "'enabled' is deprecated. Please use the azureml.core.runconfig.DockerConfiguration object with the 'use_docker' param instead.\n"
        }
      ],
      "execution_count": 6,
      "metadata": {
        "jupyter": {
          "source_hidden": false,
          "outputs_hidden": false
        },
        "nteract": {
          "transient": {
            "deleting": false
          }
        },
        "gather": {
          "logged": 1635723917428
        }
      }
    },
    {
      "cell_type": "code",
      "source": [
        "# Import and register new dataset\n",
        "df = Dataset.Tabular.from_delimited_files(def_blob_store.path('./data/cardio_train.csv'))\n"
      ],
      "outputs": [],
      "execution_count": 7,
      "metadata": {
        "jupyter": {
          "source_hidden": false,
          "outputs_hidden": false
        },
        "nteract": {
          "transient": {
            "deleting": false
          }
        },
        "gather": {
          "logged": 1635723922319
        }
      }
    },
    {
      "cell_type": "code",
      "source": [
        "raw_data = df.as_named_input('raw_data')\n",
        "train_data = PipelineData(\"train_data\", datastore=def_blob_store).as_dataset()\n",
        "test_data = PipelineData(\"test_data\", datastore=def_blob_store).as_dataset()\n",
        "model_file = PipelineData(\"model_file\", datastore=def_blob_store)"
      ],
      "outputs": [],
      "execution_count": 8,
      "metadata": {
        "jupyter": {
          "source_hidden": false,
          "outputs_hidden": false
        },
        "nteract": {
          "transient": {
            "deleting": false
          }
        },
        "gather": {
          "logged": 1635723922461
        }
      }
    },
    {
      "cell_type": "code",
      "source": [
        "#Contruct your pipelines steps\n",
        "\n",
        "#initial pipeline step\n",
        "from azureml.pipeline.steps import PythonScriptStep\n",
        "\n",
        "entry_point=\"./prep.py\"\n",
        "source_directory=\"./prep\"\n",
        "data_prep_step = PythonScriptStep(name=\"prep_step\",\n",
        "                         script_name=entry_point, \n",
        "                         source_directory=source_directory,\n",
        "                         arguments=[\"--train\", train_data,\"--test\", test_data],\n",
        "                         inputs=[raw_data],\n",
        "                         outputs=[train_data,test_data],                         \n",
        "                         compute_target=aml_compute, \n",
        "                         runconfig=aml_run_config,\n",
        "                         allow_reuse=True)"
      ],
      "outputs": [],
      "execution_count": 9,
      "metadata": {
        "jupyter": {
          "source_hidden": false,
          "outputs_hidden": false
        },
        "nteract": {
          "transient": {
            "deleting": false
          }
        },
        "gather": {
          "logged": 1635723922537
        }
      }
    },
    {
      "cell_type": "code",
      "source": [
        "#use a dataset\n",
        "source_directory=\"./train\"\n",
        "train_point=\"./train.py\"\n",
        "data_consuming_step = PythonScriptStep(name=\"consuming_step\",\n",
        "                         script_name=train_point, \n",
        "                         source_directory=source_directory,\n",
        "                         arguments=[\"--train\", train_data,\"--test\", test_data,\"--model\",model_file],\n",
        "                         inputs=[train_data,test_data],\n",
        "                         outputs=[model_file],                         \n",
        "                         compute_target=aml_compute, \n",
        "                         runconfig=aml_run_config,\n",
        "                         allow_reuse=True)"
      ],
      "outputs": [],
      "execution_count": 10,
      "metadata": {
        "jupyter": {
          "source_hidden": false,
          "outputs_hidden": false
        },
        "nteract": {
          "transient": {
            "deleting": false
          }
        },
        "gather": {
          "logged": 1635723922625
        }
      }
    },
    {
      "cell_type": "code",
      "source": [
        "steps = [data_prep_step,data_consuming_step]\n",
        "pipeline1 = Pipeline(workspace=ws, steps=steps)\n",
        "pipeline_run1 = Experiment(ws, 'cardio_prediction').submit(pipeline1, regenerate_outputs=False)"
      ],
      "outputs": [
        {
          "output_type": "stream",
          "name": "stdout",
          "text": "Created step prep_step [898eb088][39b5c2e3-9031-45eb-8094-608a378e5c3b], (This step is eligible to reuse a previous run's output)\nCreated step consuming_step [6e872326][5d7d9730-c5e1-4e04-91e4-c9dba21d3660], (This step will run and generate new outputs)\nSubmitted PipelineRun 4259da5e-81d6-48f8-b330-063b42f3c74a\nLink to Azure Machine Learning Portal: https://ml.azure.com/runs/4259da5e-81d6-48f8-b330-063b42f3c74a?wsid=/subscriptions/03a06d66-fdfa-4280-a0d7-97ca9b1ba175/resourcegroups/machinelearningoperations/workspaces/machinelearningopsgroup3&tid=83b02c92-5f26-48ed-9e5b-6c2fca46a8e6\n"
        }
      ],
      "execution_count": 11,
      "metadata": {
        "jupyter": {
          "source_hidden": false,
          "outputs_hidden": false
        },
        "nteract": {
          "transient": {
            "deleting": false
          }
        },
        "gather": {
          "logged": 1635723927319
        }
      }
    },
    {
      "cell_type": "code",
      "source": [],
      "outputs": [],
      "execution_count": null,
      "metadata": {
        "jupyter": {
          "source_hidden": false,
          "outputs_hidden": false
        },
        "nteract": {
          "transient": {
            "deleting": false
          }
        }
      }
    }
  ],
  "metadata": {
    "kernelspec": {
      "name": "python3-azureml",
      "language": "python",
      "display_name": "Python 3.6 - AzureML"
    },
    "language_info": {
      "name": "python",
      "version": "3.6.9",
      "mimetype": "text/x-python",
      "codemirror_mode": {
        "name": "ipython",
        "version": 3
      },
      "pygments_lexer": "ipython3",
      "nbconvert_exporter": "python",
      "file_extension": ".py"
    },
    "kernel_info": {
      "name": "python3-azureml"
    },
    "nteract": {
      "version": "nteract-front-end@1.0.0"
    },
    "microsoft": {
      "host": {
        "AzureML": {
          "notebookHasBeenCompleted": true
        }
      }
    }
  },
  "nbformat": 4,
  "nbformat_minor": 2
}